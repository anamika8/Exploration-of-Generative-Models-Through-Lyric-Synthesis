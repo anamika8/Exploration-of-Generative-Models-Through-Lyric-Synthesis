{
  "cells": [
    {
      "cell_type": "markdown",
      "metadata": {
        "id": "XErcynMaZs3u"
      },
      "source": [
        "# CS510 NLP Final Project\n",
        "\n",
        "Author - Truman Daniels"
      ]
    },
    {
      "cell_type": "markdown",
      "metadata": {
        "id": "o2xzx8VrD_m0"
      },
      "source": [
        "**bold text**## Libraries"
      ]
    },
    {
      "cell_type": "code",
      "execution_count": null,
      "metadata": {
        "id": "eJPqlvs3QVTi"
      },
      "outputs": [],
      "source": [
        "%%capture\n",
        "import pandas as pd\n",
        "import tensorflow as tf\n",
        "import numpy as np\n",
        "import re\n",
        "from tensorflow.keras.preprocessing.text import Tokenizer\n",
        "from tensorflow.keras.preprocessing.sequence import pad_sequences\n",
        "from tensorflow.keras.models import Sequential\n",
        "from tensorflow.keras.layers import Embedding, SimpleRNN, Dense, Bidirectional\n",
        "from tensorflow.keras.utils import to_categorical\n",
        "import sys, os # Importing data\n",
        "\n",
        "pd.set_option('display.max_columns', None)\n",
        "pd.set_option('display.max_rows', None)"
      ]
    },
    {
      "cell_type": "markdown",
      "metadata": {
        "id": "cTgKyQkTEBJh"
      },
      "source": [
        "### Load Data"
      ]
    },
    {
      "cell_type": "code",
      "execution_count": null,
      "metadata": {
        "id": "wEjFiVwKQBUZ"
      },
      "outputs": [],
      "source": [
        "%%capture\n",
        "\n",
        "# downloads the .csv files from google drive only if it's not already in directory\n",
        "path = \"/content/spotify_millsongdata.csv\"\n",
        "if os.path.isfile(path) == False:\n",
        "  !gdown --id 1wGtLywxyCq858JTVtizWHR5dtIf4Di8v\n",
        "\n",
        "df = pd.read_csv(path)"
      ]
    },
    {
      "cell_type": "markdown",
      "metadata": {
        "id": "D-YCJIsCECvC"
      },
      "source": [
        "### Only grab Rihanna songs"
      ]
    },
    {
      "cell_type": "code",
      "execution_count": null,
      "metadata": {
        "colab": {
          "base_uri": "https://localhost:8080/",
          "height": 224
        },
        "id": "CI_UotbgQbw6",
        "outputId": "1d76544a-de37-4daf-bd42-11d58a1e5271"
      },
      "outputs": [
        {
          "name": "stdout",
          "output_type": "stream",
          "text": [
            "143\n"
          ]
        },
        {
          "data": {
            "text/html": [
              "\n",
              "  <div id=\"df-48a932a9-c77c-411e-92ea-ac47fcc9ac77\" class=\"colab-df-container\">\n",
              "    <div>\n",
              "<style scoped>\n",
              "    .dataframe tbody tr th:only-of-type {\n",
              "        vertical-align: middle;\n",
              "    }\n",
              "\n",
              "    .dataframe tbody tr th {\n",
              "        vertical-align: top;\n",
              "    }\n",
              "\n",
              "    .dataframe thead th {\n",
              "        text-align: right;\n",
              "    }\n",
              "</style>\n",
              "<table border=\"1\" class=\"dataframe\">\n",
              "  <thead>\n",
              "    <tr style=\"text-align: right;\">\n",
              "      <th></th>\n",
              "      <th>artist</th>\n",
              "      <th>song</th>\n",
              "      <th>link</th>\n",
              "      <th>text</th>\n",
              "    </tr>\n",
              "  </thead>\n",
              "  <tbody>\n",
              "    <tr>\n",
              "      <th>0</th>\n",
              "      <td>Rihanna</td>\n",
              "      <td>A Child Is Born</td>\n",
              "      <td>/r/rihanna/a+child+is+born_20897863.html</td>\n",
              "      <td>As I was walkin' down the road to Bethlehem on...</td>\n",
              "    </tr>\n",
              "    <tr>\n",
              "      <th>1</th>\n",
              "      <td>Rihanna</td>\n",
              "      <td>A Girl Like Me</td>\n",
              "      <td>/r/rihanna/a+girl+like+me_20409523.html</td>\n",
              "      <td>Some girls play the game  \\r\\nThey all walk an...</td>\n",
              "    </tr>\n",
              "    <tr>\n",
              "      <th>2</th>\n",
              "      <td>Rihanna</td>\n",
              "      <td>Afterparty</td>\n",
              "      <td>/r/rihanna/afterparty_20901270.html</td>\n",
              "      <td>Mc, Nicki, Riri  \\r\\nAfter Party  \\r\\n  \\r\\nTu...</td>\n",
              "    </tr>\n",
              "    <tr>\n",
              "      <th>3</th>\n",
              "      <td>Rihanna</td>\n",
              "      <td>American Oxygen</td>\n",
              "      <td>/r/rihanna/american+oxygen_21096458.html</td>\n",
              "      <td>[Chorus]  \\r\\nBreathe out, breathe in  \\r\\nAme...</td>\n",
              "    </tr>\n",
              "    <tr>\n",
              "      <th>4</th>\n",
              "      <td>Rihanna</td>\n",
              "      <td>California King Bed</td>\n",
              "      <td>/r/rihanna/california+king+bed_20910592.html</td>\n",
              "      <td>Chest to chest  \\r\\nNose to nose  \\r\\nPalm to ...</td>\n",
              "    </tr>\n",
              "  </tbody>\n",
              "</table>\n",
              "</div>\n",
              "    <div class=\"colab-df-buttons\">\n",
              "\n",
              "  <div class=\"colab-df-container\">\n",
              "    <button class=\"colab-df-convert\" onclick=\"convertToInteractive('df-48a932a9-c77c-411e-92ea-ac47fcc9ac77')\"\n",
              "            title=\"Convert this dataframe to an interactive table.\"\n",
              "            style=\"display:none;\">\n",
              "\n",
              "  <svg xmlns=\"http://www.w3.org/2000/svg\" height=\"24px\" viewBox=\"0 -960 960 960\">\n",
              "    <path d=\"M120-120v-720h720v720H120Zm60-500h600v-160H180v160Zm220 220h160v-160H400v160Zm0 220h160v-160H400v160ZM180-400h160v-160H180v160Zm440 0h160v-160H620v160ZM180-180h160v-160H180v160Zm440 0h160v-160H620v160Z\"/>\n",
              "  </svg>\n",
              "    </button>\n",
              "\n",
              "  <style>\n",
              "    .colab-df-container {\n",
              "      display:flex;\n",
              "      gap: 12px;\n",
              "    }\n",
              "\n",
              "    .colab-df-convert {\n",
              "      background-color: #E8F0FE;\n",
              "      border: none;\n",
              "      border-radius: 50%;\n",
              "      cursor: pointer;\n",
              "      display: none;\n",
              "      fill: #1967D2;\n",
              "      height: 32px;\n",
              "      padding: 0 0 0 0;\n",
              "      width: 32px;\n",
              "    }\n",
              "\n",
              "    .colab-df-convert:hover {\n",
              "      background-color: #E2EBFA;\n",
              "      box-shadow: 0px 1px 2px rgba(60, 64, 67, 0.3), 0px 1px 3px 1px rgba(60, 64, 67, 0.15);\n",
              "      fill: #174EA6;\n",
              "    }\n",
              "\n",
              "    .colab-df-buttons div {\n",
              "      margin-bottom: 4px;\n",
              "    }\n",
              "\n",
              "    [theme=dark] .colab-df-convert {\n",
              "      background-color: #3B4455;\n",
              "      fill: #D2E3FC;\n",
              "    }\n",
              "\n",
              "    [theme=dark] .colab-df-convert:hover {\n",
              "      background-color: #434B5C;\n",
              "      box-shadow: 0px 1px 3px 1px rgba(0, 0, 0, 0.15);\n",
              "      filter: drop-shadow(0px 1px 2px rgba(0, 0, 0, 0.3));\n",
              "      fill: #FFFFFF;\n",
              "    }\n",
              "  </style>\n",
              "\n",
              "    <script>\n",
              "      const buttonEl =\n",
              "        document.querySelector('#df-48a932a9-c77c-411e-92ea-ac47fcc9ac77 button.colab-df-convert');\n",
              "      buttonEl.style.display =\n",
              "        google.colab.kernel.accessAllowed ? 'block' : 'none';\n",
              "\n",
              "      async function convertToInteractive(key) {\n",
              "        const element = document.querySelector('#df-48a932a9-c77c-411e-92ea-ac47fcc9ac77');\n",
              "        const dataTable =\n",
              "          await google.colab.kernel.invokeFunction('convertToInteractive',\n",
              "                                                    [key], {});\n",
              "        if (!dataTable) return;\n",
              "\n",
              "        const docLinkHtml = 'Like what you see? Visit the ' +\n",
              "          '<a target=\"_blank\" href=https://colab.research.google.com/notebooks/data_table.ipynb>data table notebook</a>'\n",
              "          + ' to learn more about interactive tables.';\n",
              "        element.innerHTML = '';\n",
              "        dataTable['output_type'] = 'display_data';\n",
              "        await google.colab.output.renderOutput(dataTable, element);\n",
              "        const docLink = document.createElement('div');\n",
              "        docLink.innerHTML = docLinkHtml;\n",
              "        element.appendChild(docLink);\n",
              "      }\n",
              "    </script>\n",
              "  </div>\n",
              "\n",
              "\n",
              "<div id=\"df-ae4c9452-0d8c-4b99-b6eb-d25ce658a75d\">\n",
              "  <button class=\"colab-df-quickchart\" onclick=\"quickchart('df-ae4c9452-0d8c-4b99-b6eb-d25ce658a75d')\"\n",
              "            title=\"Suggest charts\"\n",
              "            style=\"display:none;\">\n",
              "\n",
              "<svg xmlns=\"http://www.w3.org/2000/svg\" height=\"24px\"viewBox=\"0 0 24 24\"\n",
              "     width=\"24px\">\n",
              "    <g>\n",
              "        <path d=\"M19 3H5c-1.1 0-2 .9-2 2v14c0 1.1.9 2 2 2h14c1.1 0 2-.9 2-2V5c0-1.1-.9-2-2-2zM9 17H7v-7h2v7zm4 0h-2V7h2v10zm4 0h-2v-4h2v4z\"/>\n",
              "    </g>\n",
              "</svg>\n",
              "  </button>\n",
              "\n",
              "<style>\n",
              "  .colab-df-quickchart {\n",
              "      --bg-color: #E8F0FE;\n",
              "      --fill-color: #1967D2;\n",
              "      --hover-bg-color: #E2EBFA;\n",
              "      --hover-fill-color: #174EA6;\n",
              "      --disabled-fill-color: #AAA;\n",
              "      --disabled-bg-color: #DDD;\n",
              "  }\n",
              "\n",
              "  [theme=dark] .colab-df-quickchart {\n",
              "      --bg-color: #3B4455;\n",
              "      --fill-color: #D2E3FC;\n",
              "      --hover-bg-color: #434B5C;\n",
              "      --hover-fill-color: #FFFFFF;\n",
              "      --disabled-bg-color: #3B4455;\n",
              "      --disabled-fill-color: #666;\n",
              "  }\n",
              "\n",
              "  .colab-df-quickchart {\n",
              "    background-color: var(--bg-color);\n",
              "    border: none;\n",
              "    border-radius: 50%;\n",
              "    cursor: pointer;\n",
              "    display: none;\n",
              "    fill: var(--fill-color);\n",
              "    height: 32px;\n",
              "    padding: 0;\n",
              "    width: 32px;\n",
              "  }\n",
              "\n",
              "  .colab-df-quickchart:hover {\n",
              "    background-color: var(--hover-bg-color);\n",
              "    box-shadow: 0 1px 2px rgba(60, 64, 67, 0.3), 0 1px 3px 1px rgba(60, 64, 67, 0.15);\n",
              "    fill: var(--button-hover-fill-color);\n",
              "  }\n",
              "\n",
              "  .colab-df-quickchart-complete:disabled,\n",
              "  .colab-df-quickchart-complete:disabled:hover {\n",
              "    background-color: var(--disabled-bg-color);\n",
              "    fill: var(--disabled-fill-color);\n",
              "    box-shadow: none;\n",
              "  }\n",
              "\n",
              "  .colab-df-spinner {\n",
              "    border: 2px solid var(--fill-color);\n",
              "    border-color: transparent;\n",
              "    border-bottom-color: var(--fill-color);\n",
              "    animation:\n",
              "      spin 1s steps(1) infinite;\n",
              "  }\n",
              "\n",
              "  @keyframes spin {\n",
              "    0% {\n",
              "      border-color: transparent;\n",
              "      border-bottom-color: var(--fill-color);\n",
              "      border-left-color: var(--fill-color);\n",
              "    }\n",
              "    20% {\n",
              "      border-color: transparent;\n",
              "      border-left-color: var(--fill-color);\n",
              "      border-top-color: var(--fill-color);\n",
              "    }\n",
              "    30% {\n",
              "      border-color: transparent;\n",
              "      border-left-color: var(--fill-color);\n",
              "      border-top-color: var(--fill-color);\n",
              "      border-right-color: var(--fill-color);\n",
              "    }\n",
              "    40% {\n",
              "      border-color: transparent;\n",
              "      border-right-color: var(--fill-color);\n",
              "      border-top-color: var(--fill-color);\n",
              "    }\n",
              "    60% {\n",
              "      border-color: transparent;\n",
              "      border-right-color: var(--fill-color);\n",
              "    }\n",
              "    80% {\n",
              "      border-color: transparent;\n",
              "      border-right-color: var(--fill-color);\n",
              "      border-bottom-color: var(--fill-color);\n",
              "    }\n",
              "    90% {\n",
              "      border-color: transparent;\n",
              "      border-bottom-color: var(--fill-color);\n",
              "    }\n",
              "  }\n",
              "</style>\n",
              "\n",
              "  <script>\n",
              "    async function quickchart(key) {\n",
              "      const quickchartButtonEl =\n",
              "        document.querySelector('#' + key + ' button');\n",
              "      quickchartButtonEl.disabled = true;  // To prevent multiple clicks.\n",
              "      quickchartButtonEl.classList.add('colab-df-spinner');\n",
              "      try {\n",
              "        const charts = await google.colab.kernel.invokeFunction(\n",
              "            'suggestCharts', [key], {});\n",
              "      } catch (error) {\n",
              "        console.error('Error during call to suggestCharts:', error);\n",
              "      }\n",
              "      quickchartButtonEl.classList.remove('colab-df-spinner');\n",
              "      quickchartButtonEl.classList.add('colab-df-quickchart-complete');\n",
              "    }\n",
              "    (() => {\n",
              "      let quickchartButtonEl =\n",
              "        document.querySelector('#df-ae4c9452-0d8c-4b99-b6eb-d25ce658a75d button');\n",
              "      quickchartButtonEl.style.display =\n",
              "        google.colab.kernel.accessAllowed ? 'block' : 'none';\n",
              "    })();\n",
              "  </script>\n",
              "</div>\n",
              "    </div>\n",
              "  </div>\n"
            ],
            "text/plain": [
              "    artist                 song                                          link  \\\n",
              "0  Rihanna      A Child Is Born      /r/rihanna/a+child+is+born_20897863.html   \n",
              "1  Rihanna       A Girl Like Me       /r/rihanna/a+girl+like+me_20409523.html   \n",
              "2  Rihanna           Afterparty           /r/rihanna/afterparty_20901270.html   \n",
              "3  Rihanna      American Oxygen      /r/rihanna/american+oxygen_21096458.html   \n",
              "4  Rihanna  California King Bed  /r/rihanna/california+king+bed_20910592.html   \n",
              "\n",
              "                                                text  \n",
              "0  As I was walkin' down the road to Bethlehem on...  \n",
              "1  Some girls play the game  \\r\\nThey all walk an...  \n",
              "2  Mc, Nicki, Riri  \\r\\nAfter Party  \\r\\n  \\r\\nTu...  \n",
              "3  [Chorus]  \\r\\nBreathe out, breathe in  \\r\\nAme...  \n",
              "4  Chest to chest  \\r\\nNose to nose  \\r\\nPalm to ...  "
            ]
          },
          "execution_count": 4,
          "metadata": {},
          "output_type": "execute_result"
        }
      ],
      "source": [
        "df_rih = df[df[\"artist\"] == \"Rihanna\"]\n",
        "df_rih = df_rih.reset_index(drop=True)\n",
        "# df_rih = df_rih[df_rih[\"song\"] != \"A Child Is Born\"] #drop this row\n",
        "# The number of songs\n",
        "print(len(df_rih))\n",
        "# df_rif['text']\n",
        "df_rih.head()"
      ]
    },
    {
      "cell_type": "code",
      "execution_count": null,
      "metadata": {
        "colab": {
          "base_uri": "https://localhost:8080/"
        },
        "id": "LDsJ1i4t1Uq7",
        "outputId": "ef9d024a-03f3-44e9-c6f2-71c085850cee"
      },
      "outputs": [
        {
          "name": "stdout",
          "output_type": "stream",
          "text": [
            "Requirement already satisfied: pandas in /usr/local/lib/python3.10/dist-packages (1.5.3)\n",
            "Requirement already satisfied: nltk in /usr/local/lib/python3.10/dist-packages (3.8.1)\n",
            "Requirement already satisfied: python-dateutil>=2.8.1 in /usr/local/lib/python3.10/dist-packages (from pandas) (2.8.2)\n",
            "Requirement already satisfied: pytz>=2020.1 in /usr/local/lib/python3.10/dist-packages (from pandas) (2023.3.post1)\n",
            "Requirement already satisfied: numpy>=1.21.0 in /usr/local/lib/python3.10/dist-packages (from pandas) (1.23.5)\n",
            "Requirement already satisfied: click in /usr/local/lib/python3.10/dist-packages (from nltk) (8.1.7)\n",
            "Requirement already satisfied: joblib in /usr/local/lib/python3.10/dist-packages (from nltk) (1.3.2)\n",
            "Requirement already satisfied: regex>=2021.8.3 in /usr/local/lib/python3.10/dist-packages (from nltk) (2023.6.3)\n",
            "Requirement already satisfied: tqdm in /usr/local/lib/python3.10/dist-packages (from nltk) (4.66.1)\n",
            "Requirement already satisfied: six>=1.5 in /usr/local/lib/python3.10/dist-packages (from python-dateutil>=2.8.1->pandas) (1.16.0)\n"
          ]
        },
        {
          "name": "stderr",
          "output_type": "stream",
          "text": [
            "[nltk_data] Downloading package punkt to /root/nltk_data...\n",
            "[nltk_data]   Unzipping tokenizers/punkt.zip.\n"
          ]
        },
        {
          "name": "stdout",
          "output_type": "stream",
          "text": [
            "Total number of tokens: 59089\n"
          ]
        }
      ],
      "source": [
        "!pip install nltk\n",
        "import nltk\n",
        "from nltk.tokenize import word_tokenize\n",
        "nltk.download('punkt')\n",
        "\n",
        "tokens = df_rih['text'].apply(word_tokenize)\n",
        "total_tokens = tokens.apply(len).sum()\n",
        "print(f\"Total number of tokens: {total_tokens}\")"
      ]
    },
    {
      "cell_type": "code",
      "execution_count": null,
      "metadata": {
        "colab": {
          "base_uri": "https://localhost:8080/"
        },
        "id": "YzABimW6VkNV",
        "outputId": "3474a1ad-28ec-457a-84a2-96daac37371f"
      },
      "outputs": [
        {
          "name": "stdout",
          "output_type": "stream",
          "text": [
            "Longest song length: 3765\n",
            "Index of the longest song: 90\n"
          ]
        }
      ],
      "source": [
        "# Initialize variables to track the longest song\n",
        "longest_song_length = 0\n",
        "longest_song_index = None\n",
        "\n",
        "# Iterate through each row in the 'text' column\n",
        "for index, row in df_rih.iterrows():\n",
        "    # Calculate the length of the text\n",
        "    song_length = len(row['text'])\n",
        "\n",
        "    # Update the longest song info if this song is longer\n",
        "    if song_length > longest_song_length:\n",
        "        longest_song_length = song_length\n",
        "        longest_song_index = index\n",
        "\n",
        "# Print the length of the longest song and its index\n",
        "print(\"Longest song length:\", longest_song_length)\n",
        "print(\"Index of the longest song:\", longest_song_index)"
      ]
    },
    {
      "cell_type": "code",
      "execution_count": null,
      "metadata": {
        "colab": {
          "base_uri": "https://localhost:8080/",
          "height": 35
        },
        "id": "sWePiFkLWs8O",
        "outputId": "0339941f-0a3e-47c8-b679-efa167473377"
      },
      "outputs": [
        {
          "data": {
            "application/vnd.google.colaboratory.intrinsic+json": {
              "type": "string"
            },
            "text/plain": [
              "'Break It Off'"
            ]
          },
          "execution_count": 18,
          "metadata": {},
          "output_type": "execute_result"
        }
      ],
      "source": [
        "df_rih['song'].iloc[90]"
      ]
    },
    {
      "cell_type": "code",
      "execution_count": null,
      "metadata": {
        "colab": {
          "base_uri": "https://localhost:8080/",
          "height": 542
        },
        "id": "4J4guiDiW-34",
        "outputId": "441721f8-61aa-4eff-a680-651667c4b97a"
      },
      "outputs": [
        {
          "data": {
            "text/html": [
              "<html>\n",
              "<head><meta charset=\"utf-8\" /></head>\n",
              "<body>\n",
              "    <div>            <script src=\"https://cdnjs.cloudflare.com/ajax/libs/mathjax/2.7.5/MathJax.js?config=TeX-AMS-MML_SVG\"></script><script type=\"text/javascript\">if (window.MathJax && window.MathJax.Hub && window.MathJax.Hub.Config) {window.MathJax.Hub.Config({SVG: {font: \"STIX-Web\"}});}</script>                <script type=\"text/javascript\">window.PlotlyConfig = {MathJaxConfig: 'local'};</script>\n",
              "        <script charset=\"utf-8\" src=\"https://cdn.plot.ly/plotly-2.24.1.min.js\"></script>                <div id=\"d0cadf91-2fd9-46d8-8831-05332990ace9\" class=\"plotly-graph-div\" style=\"height:525px; width:100%;\"></div>            <script type=\"text/javascript\">                                    window.PLOTLYENV=window.PLOTLYENV || {};                                    if (document.getElementById(\"d0cadf91-2fd9-46d8-8831-05332990ace9\")) {                    Plotly.newPlot(                        \"d0cadf91-2fd9-46d8-8831-05332990ace9\",                        [{\"alignmentgroup\":\"True\",\"bingroup\":\"x\",\"hovertemplate\":\"token_length=%{x}\\u003cbr\\u003ecount=%{y}\\u003cextra\\u003e\\u003c\\u002fextra\\u003e\",\"legendgroup\":\"\",\"marker\":{\"color\":\"#636efa\",\"pattern\":{\"shape\":\"\"}},\"name\":\"\",\"nbinsx\":60,\"offsetgroup\":\"\",\"orientation\":\"v\",\"showlegend\":false,\"x\":[357,473,131,357,305,425,360,422,234,463,687,378,405,311,353,653,327,332,188,456,742,252,158,367,611,399,387,381,376,376,358,509,301,458,594,446,111,578,220,262,535,158,357,220,405,443,337,446,722,506,630,520,284,286,742,406,348,603,357,522,613,444,753,281,453,242,452,398,526,282,487,739,543,429,495,376,438,551,683,629,453,245,504,384,747,294,448,466,227,466,848,503,209,485,453,452,393,388,417,311,313,366,778,475,144,436,277,528,426,630,378,338,104,496,372,624,255,386,697,323,304,229,563,483,281,309,364,279,301,211,427,579,346,450,798,466,238,258,650,348,226,560,295],\"xaxis\":\"x\",\"yaxis\":\"y\",\"type\":\"histogram\"}],                        {\"template\":{\"data\":{\"histogram2dcontour\":[{\"type\":\"histogram2dcontour\",\"colorbar\":{\"outlinewidth\":0,\"ticks\":\"\"},\"colorscale\":[[0.0,\"#0d0887\"],[0.1111111111111111,\"#46039f\"],[0.2222222222222222,\"#7201a8\"],[0.3333333333333333,\"#9c179e\"],[0.4444444444444444,\"#bd3786\"],[0.5555555555555556,\"#d8576b\"],[0.6666666666666666,\"#ed7953\"],[0.7777777777777778,\"#fb9f3a\"],[0.8888888888888888,\"#fdca26\"],[1.0,\"#f0f921\"]]}],\"choropleth\":[{\"type\":\"choropleth\",\"colorbar\":{\"outlinewidth\":0,\"ticks\":\"\"}}],\"histogram2d\":[{\"type\":\"histogram2d\",\"colorbar\":{\"outlinewidth\":0,\"ticks\":\"\"},\"colorscale\":[[0.0,\"#0d0887\"],[0.1111111111111111,\"#46039f\"],[0.2222222222222222,\"#7201a8\"],[0.3333333333333333,\"#9c179e\"],[0.4444444444444444,\"#bd3786\"],[0.5555555555555556,\"#d8576b\"],[0.6666666666666666,\"#ed7953\"],[0.7777777777777778,\"#fb9f3a\"],[0.8888888888888888,\"#fdca26\"],[1.0,\"#f0f921\"]]}],\"heatmap\":[{\"type\":\"heatmap\",\"colorbar\":{\"outlinewidth\":0,\"ticks\":\"\"},\"colorscale\":[[0.0,\"#0d0887\"],[0.1111111111111111,\"#46039f\"],[0.2222222222222222,\"#7201a8\"],[0.3333333333333333,\"#9c179e\"],[0.4444444444444444,\"#bd3786\"],[0.5555555555555556,\"#d8576b\"],[0.6666666666666666,\"#ed7953\"],[0.7777777777777778,\"#fb9f3a\"],[0.8888888888888888,\"#fdca26\"],[1.0,\"#f0f921\"]]}],\"heatmapgl\":[{\"type\":\"heatmapgl\",\"colorbar\":{\"outlinewidth\":0,\"ticks\":\"\"},\"colorscale\":[[0.0,\"#0d0887\"],[0.1111111111111111,\"#46039f\"],[0.2222222222222222,\"#7201a8\"],[0.3333333333333333,\"#9c179e\"],[0.4444444444444444,\"#bd3786\"],[0.5555555555555556,\"#d8576b\"],[0.6666666666666666,\"#ed7953\"],[0.7777777777777778,\"#fb9f3a\"],[0.8888888888888888,\"#fdca26\"],[1.0,\"#f0f921\"]]}],\"contourcarpet\":[{\"type\":\"contourcarpet\",\"colorbar\":{\"outlinewidth\":0,\"ticks\":\"\"}}],\"contour\":[{\"type\":\"contour\",\"colorbar\":{\"outlinewidth\":0,\"ticks\":\"\"},\"colorscale\":[[0.0,\"#0d0887\"],[0.1111111111111111,\"#46039f\"],[0.2222222222222222,\"#7201a8\"],[0.3333333333333333,\"#9c179e\"],[0.4444444444444444,\"#bd3786\"],[0.5555555555555556,\"#d8576b\"],[0.6666666666666666,\"#ed7953\"],[0.7777777777777778,\"#fb9f3a\"],[0.8888888888888888,\"#fdca26\"],[1.0,\"#f0f921\"]]}],\"surface\":[{\"type\":\"surface\",\"colorbar\":{\"outlinewidth\":0,\"ticks\":\"\"},\"colorscale\":[[0.0,\"#0d0887\"],[0.1111111111111111,\"#46039f\"],[0.2222222222222222,\"#7201a8\"],[0.3333333333333333,\"#9c179e\"],[0.4444444444444444,\"#bd3786\"],[0.5555555555555556,\"#d8576b\"],[0.6666666666666666,\"#ed7953\"],[0.7777777777777778,\"#fb9f3a\"],[0.8888888888888888,\"#fdca26\"],[1.0,\"#f0f921\"]]}],\"mesh3d\":[{\"type\":\"mesh3d\",\"colorbar\":{\"outlinewidth\":0,\"ticks\":\"\"}}],\"scatter\":[{\"fillpattern\":{\"fillmode\":\"overlay\",\"size\":10,\"solidity\":0.2},\"type\":\"scatter\"}],\"parcoords\":[{\"type\":\"parcoords\",\"line\":{\"colorbar\":{\"outlinewidth\":0,\"ticks\":\"\"}}}],\"scatterpolargl\":[{\"type\":\"scatterpolargl\",\"marker\":{\"colorbar\":{\"outlinewidth\":0,\"ticks\":\"\"}}}],\"bar\":[{\"error_x\":{\"color\":\"#2a3f5f\"},\"error_y\":{\"color\":\"#2a3f5f\"},\"marker\":{\"line\":{\"color\":\"#E5ECF6\",\"width\":0.5},\"pattern\":{\"fillmode\":\"overlay\",\"size\":10,\"solidity\":0.2}},\"type\":\"bar\"}],\"scattergeo\":[{\"type\":\"scattergeo\",\"marker\":{\"colorbar\":{\"outlinewidth\":0,\"ticks\":\"\"}}}],\"scatterpolar\":[{\"type\":\"scatterpolar\",\"marker\":{\"colorbar\":{\"outlinewidth\":0,\"ticks\":\"\"}}}],\"histogram\":[{\"marker\":{\"pattern\":{\"fillmode\":\"overlay\",\"size\":10,\"solidity\":0.2}},\"type\":\"histogram\"}],\"scattergl\":[{\"type\":\"scattergl\",\"marker\":{\"colorbar\":{\"outlinewidth\":0,\"ticks\":\"\"}}}],\"scatter3d\":[{\"type\":\"scatter3d\",\"line\":{\"colorbar\":{\"outlinewidth\":0,\"ticks\":\"\"}},\"marker\":{\"colorbar\":{\"outlinewidth\":0,\"ticks\":\"\"}}}],\"scattermapbox\":[{\"type\":\"scattermapbox\",\"marker\":{\"colorbar\":{\"outlinewidth\":0,\"ticks\":\"\"}}}],\"scatterternary\":[{\"type\":\"scatterternary\",\"marker\":{\"colorbar\":{\"outlinewidth\":0,\"ticks\":\"\"}}}],\"scattercarpet\":[{\"type\":\"scattercarpet\",\"marker\":{\"colorbar\":{\"outlinewidth\":0,\"ticks\":\"\"}}}],\"carpet\":[{\"aaxis\":{\"endlinecolor\":\"#2a3f5f\",\"gridcolor\":\"white\",\"linecolor\":\"white\",\"minorgridcolor\":\"white\",\"startlinecolor\":\"#2a3f5f\"},\"baxis\":{\"endlinecolor\":\"#2a3f5f\",\"gridcolor\":\"white\",\"linecolor\":\"white\",\"minorgridcolor\":\"white\",\"startlinecolor\":\"#2a3f5f\"},\"type\":\"carpet\"}],\"table\":[{\"cells\":{\"fill\":{\"color\":\"#EBF0F8\"},\"line\":{\"color\":\"white\"}},\"header\":{\"fill\":{\"color\":\"#C8D4E3\"},\"line\":{\"color\":\"white\"}},\"type\":\"table\"}],\"barpolar\":[{\"marker\":{\"line\":{\"color\":\"#E5ECF6\",\"width\":0.5},\"pattern\":{\"fillmode\":\"overlay\",\"size\":10,\"solidity\":0.2}},\"type\":\"barpolar\"}],\"pie\":[{\"automargin\":true,\"type\":\"pie\"}]},\"layout\":{\"autotypenumbers\":\"strict\",\"colorway\":[\"#636efa\",\"#EF553B\",\"#00cc96\",\"#ab63fa\",\"#FFA15A\",\"#19d3f3\",\"#FF6692\",\"#B6E880\",\"#FF97FF\",\"#FECB52\"],\"font\":{\"color\":\"#2a3f5f\"},\"hovermode\":\"closest\",\"hoverlabel\":{\"align\":\"left\"},\"paper_bgcolor\":\"white\",\"plot_bgcolor\":\"#E5ECF6\",\"polar\":{\"bgcolor\":\"#E5ECF6\",\"angularaxis\":{\"gridcolor\":\"white\",\"linecolor\":\"white\",\"ticks\":\"\"},\"radialaxis\":{\"gridcolor\":\"white\",\"linecolor\":\"white\",\"ticks\":\"\"}},\"ternary\":{\"bgcolor\":\"#E5ECF6\",\"aaxis\":{\"gridcolor\":\"white\",\"linecolor\":\"white\",\"ticks\":\"\"},\"baxis\":{\"gridcolor\":\"white\",\"linecolor\":\"white\",\"ticks\":\"\"},\"caxis\":{\"gridcolor\":\"white\",\"linecolor\":\"white\",\"ticks\":\"\"}},\"coloraxis\":{\"colorbar\":{\"outlinewidth\":0,\"ticks\":\"\"}},\"colorscale\":{\"sequential\":[[0.0,\"#0d0887\"],[0.1111111111111111,\"#46039f\"],[0.2222222222222222,\"#7201a8\"],[0.3333333333333333,\"#9c179e\"],[0.4444444444444444,\"#bd3786\"],[0.5555555555555556,\"#d8576b\"],[0.6666666666666666,\"#ed7953\"],[0.7777777777777778,\"#fb9f3a\"],[0.8888888888888888,\"#fdca26\"],[1.0,\"#f0f921\"]],\"sequentialminus\":[[0.0,\"#0d0887\"],[0.1111111111111111,\"#46039f\"],[0.2222222222222222,\"#7201a8\"],[0.3333333333333333,\"#9c179e\"],[0.4444444444444444,\"#bd3786\"],[0.5555555555555556,\"#d8576b\"],[0.6666666666666666,\"#ed7953\"],[0.7777777777777778,\"#fb9f3a\"],[0.8888888888888888,\"#fdca26\"],[1.0,\"#f0f921\"]],\"diverging\":[[0,\"#8e0152\"],[0.1,\"#c51b7d\"],[0.2,\"#de77ae\"],[0.3,\"#f1b6da\"],[0.4,\"#fde0ef\"],[0.5,\"#f7f7f7\"],[0.6,\"#e6f5d0\"],[0.7,\"#b8e186\"],[0.8,\"#7fbc41\"],[0.9,\"#4d9221\"],[1,\"#276419\"]]},\"xaxis\":{\"gridcolor\":\"white\",\"linecolor\":\"white\",\"ticks\":\"\",\"title\":{\"standoff\":15},\"zerolinecolor\":\"white\",\"automargin\":true,\"zerolinewidth\":2},\"yaxis\":{\"gridcolor\":\"white\",\"linecolor\":\"white\",\"ticks\":\"\",\"title\":{\"standoff\":15},\"zerolinecolor\":\"white\",\"automargin\":true,\"zerolinewidth\":2},\"scene\":{\"xaxis\":{\"backgroundcolor\":\"#E5ECF6\",\"gridcolor\":\"white\",\"linecolor\":\"white\",\"showbackground\":true,\"ticks\":\"\",\"zerolinecolor\":\"white\",\"gridwidth\":2},\"yaxis\":{\"backgroundcolor\":\"#E5ECF6\",\"gridcolor\":\"white\",\"linecolor\":\"white\",\"showbackground\":true,\"ticks\":\"\",\"zerolinecolor\":\"white\",\"gridwidth\":2},\"zaxis\":{\"backgroundcolor\":\"#E5ECF6\",\"gridcolor\":\"white\",\"linecolor\":\"white\",\"showbackground\":true,\"ticks\":\"\",\"zerolinecolor\":\"white\",\"gridwidth\":2}},\"shapedefaults\":{\"line\":{\"color\":\"#2a3f5f\"}},\"annotationdefaults\":{\"arrowcolor\":\"#2a3f5f\",\"arrowhead\":0,\"arrowwidth\":1},\"geo\":{\"bgcolor\":\"white\",\"landcolor\":\"#E5ECF6\",\"subunitcolor\":\"white\",\"showland\":true,\"showlakes\":true,\"lakecolor\":\"white\"},\"title\":{\"x\":0.05},\"mapbox\":{\"style\":\"light\"}}},\"xaxis\":{\"anchor\":\"y\",\"domain\":[0.0,1.0],\"title\":{\"text\":\"Length of Song (Number of Tokens)\"}},\"yaxis\":{\"anchor\":\"x\",\"domain\":[0.0,1.0],\"title\":{\"text\":\"Frequency\"}},\"legend\":{\"tracegroupgap\":0},\"title\":{\"text\":\"Distribution of Token Lengths\"},\"barmode\":\"relative\",\"bargap\":0.1},                        {\"responsive\": true}                    ).then(function(){\n",
              "                            \n",
              "var gd = document.getElementById('d0cadf91-2fd9-46d8-8831-05332990ace9');\n",
              "var x = new MutationObserver(function (mutations, observer) {{\n",
              "        var display = window.getComputedStyle(gd).display;\n",
              "        if (!display || display === 'none') {{\n",
              "            console.log([gd, 'removed!']);\n",
              "            Plotly.purge(gd);\n",
              "            observer.disconnect();\n",
              "        }}\n",
              "}});\n",
              "\n",
              "// Listen for the removal of the full notebook cells\n",
              "var notebookContainer = gd.closest('#notebook-container');\n",
              "if (notebookContainer) {{\n",
              "    x.observe(notebookContainer, {childList: true});\n",
              "}}\n",
              "\n",
              "// Listen for the clearing of the current output cell\n",
              "var outputEl = gd.closest('.output');\n",
              "if (outputEl) {{\n",
              "    x.observe(outputEl, {childList: true});\n",
              "}}\n",
              "\n",
              "                        })                };                            </script>        </div>\n",
              "</body>\n",
              "</html>"
            ]
          },
          "metadata": {},
          "output_type": "display_data"
        }
      ],
      "source": [
        "import plotly.express as px\n",
        "def display_token_length_distribution(df):\n",
        "    tokenizer = Tokenizer()\n",
        "    tokenizer.fit_on_texts(df['text'])\n",
        "    sequences = tokenizer.texts_to_sequences(df['text'])\n",
        "    token_lengths = [len(seq) for seq in sequences]\n",
        "    token_length_df = pd.DataFrame({'token_length': token_lengths})\n",
        "    fig = px.histogram(token_length_df, x='token_length', nbins=60, title='Distribution of Token Lengths')\n",
        "    fig.update_layout(bargap=0.1)\n",
        "    fig.update_xaxes(title_text='Length of Song (Number of Tokens)')\n",
        "    fig.update_yaxes(title_text='Frequency')\n",
        "\n",
        "    # Show the plot\n",
        "    fig.show()\n",
        "\n",
        "# Example usage with your DataFrame 'df_rih'\n",
        "display_token_length_distribution(df_rih)"
      ]
    },
    {
      "cell_type": "code",
      "execution_count": null,
      "metadata": {
        "colab": {
          "base_uri": "https://localhost:8080/",
          "height": 143
        },
        "id": "yCByVNPOb7f8",
        "outputId": "c0384c1a-8241-4c4f-d01a-6b3a3720c256"
      },
      "outputs": [
        {
          "data": {
            "application/vnd.google.colaboratory.intrinsic+json": {
              "type": "string"
            },
            "text/plain": [
              "\"Breaking it off and setting it off in the real way  \\r\\nMaking the girls, them chill their mind (feel fine)  \\r\\nMaking them have a good time  \\r\\nYeah, man, S Peezy, yo, long side Ri, Ri  \\r\\nCome down now, Rihanna  \\r\\nTake it to them, take it to them, girl  \\r\\n  \\r\\nBreak it off, boy, this has got me feeling naughty  \\r\\nI wanna know, boy, if I can be your shorty (most definitely)  \\r\\nSet it off, boy, make me hot all over my body  \\r\\n(Break it off, take it off, no miss take it off)  \\r\\nBreak it off tonight (Yo)  \\r\\nBreak it off, boy, this has got me feeling naughty  \\r\\nI wanna know, boy, if I can be your shorty (yo, yo)  \\r\\nSet it off, boy, make me hot all over my body (yeah, yeah)  \\r\\nBreak it off tonight (yo, yo)  \\r\\n  \\r\\nStruggle and pain wha she fell all de while  \\r\\nAnd she want a good man to give her de style  \\r\\nWild child  \\r\\nSo she dere pon me file  \\r\\nIt's a long time now me wha plow  \\r\\nPlow de sile meh car run, run like de nile  \\r\\nAnd de most energy meh whan gi her tonight  \\r\\nGive her tonight  \\r\\nGan make she feel right  \\r\\nMake she fly like a kite that reach a new height  \\r\\nAh we give it to de gyal dem  \\r\\nMake dem reel up and bawl  \\r\\nAnd make dem (start call)  \\r\\nAnytime she want it back she ha fi call (Dutty Paul)  \\r\\nAdmittin' it on de spot I know de real (Sean Paul)  \\r\\nWhen de traits so great  \\r\\nCause she feelin' top up and tall wat de ting say  \\r\\n  \\r\\nBreak it off, boy, this has got me feeling naughty (Immediate, if not before)  \\r\\nI wanna know, boy, if I can be your shorty (boom, ba)  \\r\\nSet it off, boy, make me hot all over my body  \\r\\n(Break it off, take it off, no miss take it off)  \\r\\nBreak it off tonight (yo)  \\r\\nBreak it off, boy, this has got me feeling naughty  \\r\\nI wanna know, boy, if I can be your shorty (yo, yo)  \\r\\nSet it off, boy, make me hot all over my body  \\r\\n(Yeah, yeah, yo, yo, yagga, yo)  \\r\\nBreak it off tonight  \\r\\n(Ri, Ri, S Peezy, yo, yo)  \\r\\n  \\r\\nNo doubt  \\r\\nGyal, you shoulda know SP and a scout  \\r\\nNaughty sweat so shout  \\r\\nMake ya bawl out (shout)  \\r\\nMake ya holla me gah give affection in your direction  \\r\\nWe go all out  \\r\\nGyal, just follow we if ya love energy  \\r\\nIf ya whan pedigree  \\r\\nCruise like Penelope  \\r\\nMake a see yuh just bounce wit de Dutty  \\r\\nWe keep givin' you de Q to de U to de A (yea) to de L to de I to de T to de Y  \\r\\nGirl, I got to try (try)  \\r\\nTake yuh booty make you reach to de S.K.Y.  \\r\\nWoman, I got to say (say)  \\r\\nDa way you move is makin' me high  \\r\\nGirl, cuh yuh know say yuh S to de E to de X to de Y (boom, ba, boom, ba)  \\r\\n  \\r\\nBreak it off, boy, cuz you got me feeling naughty  \\r\\nLet me know, boy, if I can be your shorty (sexyness)  \\r\\nSet it off, boy, make me hot all over my body  \\r\\n(Yo, yagga yo, no doubt)  \\r\\nBreak it off tonight (Yo, Ri, Ri)  \\r\\nBreak it off, boy, this has got me feeling naughty  \\r\\nI wanna know, boy, if I can be your shorty  \\r\\n(Blaze up on no rain, no stressy)  \\r\\nSet it off, boy, make me hot all over my body  \\r\\nBreak it off tonight (yeah, yo, yo, yo)  \\r\\n  \\r\\nBoy (Uh huh)  \\r\\nThe way you push up on me I  \\r\\nWhan get da roughest wine I dun know ya like (ay, yo, ay, yo)  \\r\\nFuh sho we gonna break it off tonight (yoga, macchugga, uh)  \\r\\nOo, boy  \\r\\nWe really shouldn't waste no time (sing it)  \\r\\nCome let me back up on ya dance halls tight (bring it)  \\r\\nAnd I'm hopin', baby, you don't mind  \\r\\nCause I really wanna break it off tonight (instantaneous)  \\r\\n  \\r\\nBreak it off, boy, cuz you got me feeling naughty (hey)  \\r\\nLet me know, boy, if I can be your shorty  \\r\\nSet it off, boy, make me hot all over my body (baby girl)  \\r\\nBreak it off tonight  \\r\\n(Yo, baby girl, yo, give it up, give it up, sen on)  \\r\\nBreak it off, boy, cuz you got me feeling naughty (yo)  \\r\\nLet me know, boy, if I can be your shorty  \\r\\nSet it off, boy, make me hot all over my body  \\r\\nBreak it off tonight\\r\\n\\r\\n\""
            ]
          },
          "execution_count": 30,
          "metadata": {},
          "output_type": "execute_result"
        }
      ],
      "source": [
        "df_rih['text'].iloc[90]"
      ]
    },
    {
      "cell_type": "markdown",
      "metadata": {
        "id": "QQ1TSmrzjUxy"
      },
      "source": [
        "### Data Preprocessing"
      ]
    },
    {
      "cell_type": "code",
      "execution_count": null,
      "metadata": {
        "id": "cpQ79MqwiVxS"
      },
      "outputs": [],
      "source": [
        "# Take all of Rihanna's songs, concatenate their text together.\n",
        "text_data = df_rih['text'].str.cat(sep=' ')\n",
        "\n",
        "# OOV means \"out of vocab\"\n",
        "oov_tok = '<OOV>'\n",
        "tokenizer = Tokenizer(filters='!\"#$%&()*+,-./:;<=>?@[\\\\]^_`{|}~\\t\\r', oov_token=oov_tok) #filter out punctuation and lower, notably keeping nextline char \\n\n",
        "tokenizer.fit_on_texts([text_data])\n",
        "total_words = len(tokenizer.word_index) + 1\n",
        "\n",
        "# Split into each lyric line\n",
        "input_sequences = []\n",
        "for line in text_data.split('\\n'):\n",
        "    token_list = tokenizer.texts_to_sequences([line+'\\n'])[0]\n",
        "    for i in range(1, len(token_list)):\n",
        "        n_gram_sequence = token_list[:i+1] #ngram 1\n",
        "        #n_gram_sequence = token_list[i-1:i+1] #ngram 2\n",
        "        #n_gram_sequence = token_list[i-2:i+1] #ngram 3\n",
        "        input_sequences.append(n_gram_sequence)\n",
        "\n",
        "max_sequence_length = max([len(seq) for seq in input_sequences])\n",
        "input_sequences = pad_sequences(input_sequences, maxlen=max_sequence_length, padding='pre')\n",
        "\n",
        "# Split into X and y where y is the next word in a sequence and X is all the words leading up until that word\n",
        "X, y = input_sequences[:, :-1], input_sequences[:, -1]\n",
        "y = to_categorical(y, num_classes=total_words)"
      ]
    },
    {
      "cell_type": "code",
      "execution_count": null,
      "metadata": {
        "colab": {
          "base_uri": "https://localhost:8080/"
        },
        "id": "HT44ls_aiYvm",
        "outputId": "cc4e9421-b456-4cc2-ecc7-4f680a04b136"
      },
      "outputs": [
        {
          "data": {
            "text/plain": [
              "array([280, 157,   4, ...,  36,   2,   2], dtype=int32)"
            ]
          },
          "execution_count": 5,
          "metadata": {},
          "output_type": "execute_result"
        }
      ],
      "source": [
        "input_sequences[:, -1]"
      ]
    },
    {
      "cell_type": "code",
      "execution_count": null,
      "metadata": {
        "colab": {
          "base_uri": "https://localhost:8080/"
        },
        "id": "S0Mwtveoigm8",
        "outputId": "385ae1cf-68cc-471f-e51d-9b6e31d3ddf5"
      },
      "outputs": [
        {
          "data": {
            "text/plain": [
              "2"
            ]
          },
          "execution_count": 6,
          "metadata": {},
          "output_type": "execute_result"
        }
      ],
      "source": [
        "word_index = tokenizer.word_index\n",
        "word_index[\"\\n\"]"
      ]
    },
    {
      "cell_type": "markdown",
      "metadata": {
        "id": "YfBNV6itjLgk"
      },
      "source": [
        "### Train Model"
      ]
    },
    {
      "cell_type": "code",
      "execution_count": null,
      "metadata": {
        "colab": {
          "base_uri": "https://localhost:8080/"
        },
        "id": "Ipubdl7Jim3u",
        "outputId": "627d901d-b399-45db-f78f-2aa3ede0fcf0"
      },
      "outputs": [
        {
          "name": "stdout",
          "output_type": "stream",
          "text": [
            "Epoch 1/10\n",
            "750/750 - 99s - loss: 5.7518 - accuracy: 0.1458 - val_loss: 6.1079 - val_accuracy: 0.1391 - 99s/epoch - 132ms/step\n",
            "Epoch 2/10\n",
            "750/750 - 91s - loss: 4.9887 - accuracy: 0.1820 - val_loss: 6.0014 - val_accuracy: 0.1014 - 91s/epoch - 121ms/step\n",
            "Epoch 3/10\n",
            "750/750 - 92s - loss: 4.5472 - accuracy: 0.2137 - val_loss: 6.0281 - val_accuracy: 0.1446 - 92s/epoch - 123ms/step\n",
            "Epoch 4/10\n",
            "750/750 - 91s - loss: 4.1938 - accuracy: 0.2406 - val_loss: 6.0508 - val_accuracy: 0.1541 - 91s/epoch - 122ms/step\n",
            "Epoch 5/10\n",
            "750/750 - 94s - loss: 3.9593 - accuracy: 0.2612 - val_loss: 6.3237 - val_accuracy: 0.1589 - 94s/epoch - 125ms/step\n",
            "Epoch 6/10\n",
            "750/750 - 91s - loss: 3.5434 - accuracy: 0.3083 - val_loss: 6.2957 - val_accuracy: 0.1628 - 91s/epoch - 121ms/step\n",
            "Epoch 7/10\n",
            "750/750 - 91s - loss: 3.2389 - accuracy: 0.3490 - val_loss: 6.3732 - val_accuracy: 0.1660 - 91s/epoch - 121ms/step\n",
            "Epoch 8/10\n",
            "750/750 - 93s - loss: 3.0025 - accuracy: 0.3812 - val_loss: 6.4136 - val_accuracy: 0.1815 - 93s/epoch - 124ms/step\n",
            "Epoch 9/10\n",
            "750/750 - 92s - loss: 2.7782 - accuracy: 0.4199 - val_loss: 6.7140 - val_accuracy: 0.1914 - 92s/epoch - 122ms/step\n",
            "Epoch 10/10\n",
            "750/750 - 93s - loss: 2.6133 - accuracy: 0.4454 - val_loss: 6.6528 - val_accuracy: 0.1922 - 93s/epoch - 124ms/step\n"
          ]
        },
        {
          "data": {
            "text/plain": [
              "<keras.src.callbacks.History at 0x7c1276be9ba0>"
            ]
          },
          "execution_count": 7,
          "metadata": {},
          "output_type": "execute_result"
        }
      ],
      "source": [
        "# Model Architecture\n",
        "model = Sequential()\n",
        "model.add(Embedding(total_words, 256, input_length=max_sequence_length-1))\n",
        "model.add(Bidirectional(SimpleRNN(256)))\n",
        "model.add(Dense(total_words, activation='softmax'))\n",
        "\n",
        "# Training\n",
        "model.compile(loss='categorical_crossentropy', optimizer='adam', metrics=['accuracy'])\n",
        "model.fit(X, y, epochs=10, verbose=2, batch_size=64, validation_split=0.05, shuffle=False)"
      ]
    },
    {
      "cell_type": "markdown",
      "metadata": {
        "id": "4MqeBMQXjAsp"
      },
      "source": [
        "### Generate New Text"
      ]
    },
    {
      "cell_type": "code",
      "execution_count": null,
      "metadata": {
        "id": "f914_AB0izTK"
      },
      "outputs": [],
      "source": [
        "def smart_capitalize(sentence):\n",
        "    \"\"\"\n",
        "    via chatgpt\n",
        "    # Example usage:\n",
        "    input_text = \"hello world! i'm an example.\\ni've seen it all.\"\n",
        "    output_text = smart_capitalize(input_text)\n",
        "    print(output_text)\n",
        "    Hello World! I'm an example.\\nI've seen it all.\"\n",
        "    \"\"\"\n",
        "    sentences = re.split(r'([.!\\n])', sentence)\n",
        "    capitalize_next = True\n",
        "\n",
        "    for i in range(len(sentences)):\n",
        "        if sentences[i] in ['.', '!', '\\n', ' \\n']:\n",
        "            capitalize_next = True\n",
        "        elif capitalize_next:\n",
        "            sentences[i] = sentences[i].capitalize()\n",
        "            capitalize_next = False\n",
        "\n",
        "    output = ''.join(sentences)\n",
        "    dictionary = {\"i've\":\"I've\", \"i'm\":\"I'm\", \"i'll\": \"I'll\", \" i \":\" I \"}\n",
        "    for key in dictionary.keys():\n",
        "        output = output.replace(key, dictionary[key])\n",
        "    return output\n",
        "\n",
        "def generate_text(seed_text, num_words, model, max_sequence_length):\n",
        "    for _ in range(num_words):\n",
        "        token_list = tokenizer.texts_to_sequences([seed_text])[0]\n",
        "        token_list = pad_sequences([token_list], maxlen=max_sequence_length-1, padding='pre')\n",
        "        predicted_probs = model.predict(token_list, verbose=0)[0]\n",
        "\n",
        "        # Sample the word based on predicted probabilities\n",
        "        predicted_index = np.random.choice(len(predicted_probs), p=predicted_probs)\n",
        "        output_word = tokenizer.index_word.get(predicted_index, '')\n",
        "        seed_text += \" \" + output_word\n",
        "    return seed_text"
      ]
    },
    {
      "cell_type": "code",
      "execution_count": null,
      "metadata": {
        "colab": {
          "base_uri": "https://localhost:8080/",
          "height": 89
        },
        "id": "cHArUp2U5AR5",
        "outputId": "da65c24b-f55e-4e7b-b236-618e5b261364"
      },
      "outputs": [
        {
          "data": {
            "application/vnd.google.colaboratory.intrinsic+json": {
              "type": "string"
            },
            "text/plain": [
              "'\"Take on me said i\\'d live without you gon burn and sign me felt gonna please \\\\nFooled carriage \\\\n heat amo someone break he beats story proud to fight a story huh \\\\n get \\\\nVery sugar show me believe me knows better check stock \\\\nRed I should\\'ve kick them traffic stressy \\\\n save invited \\\\n evil diamonds from wildin\\' \\\\n someone take \\'em light you stick from between me mean it kills heaven \\\\n piece icicle \\\\n gon live yesterday \\\\n stockings \\\\n beyond line whatever we\\'d ever wanted to stick from compelling me standing on me that deserved \\\\n where heaven \\\\n\"'"
            ]
          },
          "execution_count": 9,
          "metadata": {},
          "output_type": "execute_result"
        }
      ],
      "source": [
        "repr(smart_capitalize(generate_text(\"Take On Me\", 100, model, 2)))"
      ]
    },
    {
      "cell_type": "code",
      "execution_count": null,
      "metadata": {
        "colab": {
          "base_uri": "https://localhost:8080/",
          "height": 89
        },
        "id": "W-cT-ANY5Auw",
        "outputId": "7b95ea4b-2b63-4d2e-d13d-124da5ba5214"
      },
      "outputs": [
        {
          "data": {
            "application/vnd.google.colaboratory.intrinsic+json": {
              "type": "string"
            },
            "text/plain": [
              "'\"Ymca inspiration \\\\n maintain \\\\n ay xiii come alive in central station you wa excuse me was using him push nurse top \\\\nBette \\\\nGyal stole least long power about it takes a fortress you\\'ve cap righteous covers the buried adore you enticed \\\\n disguise \\\\n wlong \\\\n torn cities \\\\n taste and end plain stars like penelope \\\\n shockin \\\\n \\\\nBad dj say it feels like engine\\'s settling \\\\n voice full blow issues your pride all wrapped different \\\\n ray round chicks \\\\n hush \\\\n turn me hole entertainment ends mo\\' mr dj dream like obama am yea \\\\n that\\'s what\"'"
            ]
          },
          "execution_count": 10,
          "metadata": {},
          "output_type": "execute_result"
        }
      ],
      "source": [
        "repr(smart_capitalize(generate_text(\"YMCA\", 100, model, 2)))"
      ]
    },
    {
      "cell_type": "markdown",
      "metadata": {
        "id": "wyC75NW_gK2v"
      },
      "source": [
        "### Example Outputs"
      ]
    },
    {
      "cell_type": "markdown",
      "metadata": {
        "id": "ydKJQOBQ9CBk"
      },
      "source": [
        "Take on me said i'd live without you gon burn and sign me felt gonna please\n",
        "\n",
        "Fooled carriage\n",
        "\n",
        "heat amo someone break he beats story proud to fight a story huh \\n get \\nVery sugar show me believe me knows better check stock \\nRed I should've kick them traffic stressy \\n save invited \\n evil diamonds from wildin' \\n someone take 'em light you stick from between me mean it kills heaven \\n piece icicle \\n gon live yesterday \\n stockings \\n beyond line whatever we'd ever wanted to stick from compelling me standing on me that deserved \\n where heaven \\n\""
      ]
    },
    {
      "cell_type": "markdown",
      "metadata": {
        "id": "Mufigejx8_Aj"
      },
      "source": [
        "\"Take on me said i'd live without you gon burn and sign me felt gonna please \\nFooled carriage \\n heat amo someone break he beats story proud to fight a story huh \\n get \\nVery sugar show me believe me knows better check stock \\nRed I should've kick them traffic stressy \\n save invited \\n evil diamonds from wildin' \\n someone take 'em light you stick from between me mean it kills heaven \\n piece icicle \\n gon live yesterday \\n stockings \\n beyond line whatever we'd ever wanted to stick from compelling me standing on me that deserved \\n where heaven \\n\""
      ]
    },
    {
      "cell_type": "markdown",
      "metadata": {
        "id": "hla36z4hj_kw"
      },
      "source": [
        "### Sources:\n",
        "*   chatgpt\n",
        "*   https://towardsdatascience.com/word-and-character-based-lstms-12eb65f779c2"
      ]
    },
    {
      "cell_type": "code",
      "execution_count": null,
      "metadata": {
        "id": "ONggDm6jgJis"
      },
      "outputs": [],
      "source": [
        "%%capture\n",
        "!sudo apt-get update\n",
        "!sudo apt-get install texlive-xetex texlive-fonts-recommended"
      ]
    },
    {
      "cell_type": "code",
      "execution_count": null,
      "metadata": {
        "colab": {
          "base_uri": "https://localhost:8080/"
        },
        "id": "IoGa-J63gSh9",
        "outputId": "a1cbb7b4-3f94-448a-8b47-f9a755bf8391"
      },
      "outputs": [
        {
          "name": "stdout",
          "output_type": "stream",
          "text": [
            "[NbConvertApp] WARNING | pattern '/content/drive/MyDrive/NLPGroupProject/RNN_baseline_final.ipynb' matched no files\n",
            "This application is used to convert notebook files (*.ipynb)\n",
            "        to various other formats.\n",
            "\n",
            "        WARNING: THE COMMANDLINE INTERFACE MAY CHANGE IN FUTURE RELEASES.\n",
            "\n",
            "Options\n",
            "=======\n",
            "The options below are convenience aliases to configurable class-options,\n",
            "as listed in the \"Equivalent to\" description-line of the aliases.\n",
            "To see all configurable class-options for some <cmd>, use:\n",
            "    <cmd> --help-all\n",
            "\n",
            "--debug\n",
            "    set log level to logging.DEBUG (maximize logging output)\n",
            "    Equivalent to: [--Application.log_level=10]\n",
            "--show-config\n",
            "    Show the application's configuration (human-readable format)\n",
            "    Equivalent to: [--Application.show_config=True]\n",
            "--show-config-json\n",
            "    Show the application's configuration (json format)\n",
            "    Equivalent to: [--Application.show_config_json=True]\n",
            "--generate-config\n",
            "    generate default config file\n",
            "    Equivalent to: [--JupyterApp.generate_config=True]\n",
            "-y\n",
            "    Answer yes to any questions instead of prompting.\n",
            "    Equivalent to: [--JupyterApp.answer_yes=True]\n",
            "--execute\n",
            "    Execute the notebook prior to export.\n",
            "    Equivalent to: [--ExecutePreprocessor.enabled=True]\n",
            "--allow-errors\n",
            "    Continue notebook execution even if one of the cells throws an error and include the error message in the cell output (the default behaviour is to abort conversion). This flag is only relevant if '--execute' was specified, too.\n",
            "    Equivalent to: [--ExecutePreprocessor.allow_errors=True]\n",
            "--stdin\n",
            "    read a single notebook file from stdin. Write the resulting notebook with default basename 'notebook.*'\n",
            "    Equivalent to: [--NbConvertApp.from_stdin=True]\n",
            "--stdout\n",
            "    Write notebook output to stdout instead of files.\n",
            "    Equivalent to: [--NbConvertApp.writer_class=StdoutWriter]\n",
            "--inplace\n",
            "    Run nbconvert in place, overwriting the existing notebook (only\n",
            "            relevant when converting to notebook format)\n",
            "    Equivalent to: [--NbConvertApp.use_output_suffix=False --NbConvertApp.export_format=notebook --FilesWriter.build_directory=]\n",
            "--clear-output\n",
            "    Clear output of current file and save in place,\n",
            "            overwriting the existing notebook.\n",
            "    Equivalent to: [--NbConvertApp.use_output_suffix=False --NbConvertApp.export_format=notebook --FilesWriter.build_directory= --ClearOutputPreprocessor.enabled=True]\n",
            "--no-prompt\n",
            "    Exclude input and output prompts from converted document.\n",
            "    Equivalent to: [--TemplateExporter.exclude_input_prompt=True --TemplateExporter.exclude_output_prompt=True]\n",
            "--no-input\n",
            "    Exclude input cells and output prompts from converted document.\n",
            "            This mode is ideal for generating code-free reports.\n",
            "    Equivalent to: [--TemplateExporter.exclude_output_prompt=True --TemplateExporter.exclude_input=True --TemplateExporter.exclude_input_prompt=True]\n",
            "--allow-chromium-download\n",
            "    Whether to allow downloading chromium if no suitable version is found on the system.\n",
            "    Equivalent to: [--WebPDFExporter.allow_chromium_download=True]\n",
            "--disable-chromium-sandbox\n",
            "    Disable chromium security sandbox when converting to PDF..\n",
            "    Equivalent to: [--WebPDFExporter.disable_sandbox=True]\n",
            "--show-input\n",
            "    Shows code input. This flag is only useful for dejavu users.\n",
            "    Equivalent to: [--TemplateExporter.exclude_input=False]\n",
            "--embed-images\n",
            "    Embed the images as base64 dataurls in the output. This flag is only useful for the HTML/WebPDF/Slides exports.\n",
            "    Equivalent to: [--HTMLExporter.embed_images=True]\n",
            "--sanitize-html\n",
            "    Whether the HTML in Markdown cells and cell outputs should be sanitized..\n",
            "    Equivalent to: [--HTMLExporter.sanitize_html=True]\n",
            "--log-level=<Enum>\n",
            "    Set the log level by value or name.\n",
            "    Choices: any of [0, 10, 20, 30, 40, 50, 'DEBUG', 'INFO', 'WARN', 'ERROR', 'CRITICAL']\n",
            "    Default: 30\n",
            "    Equivalent to: [--Application.log_level]\n",
            "--config=<Unicode>\n",
            "    Full path of a config file.\n",
            "    Default: ''\n",
            "    Equivalent to: [--JupyterApp.config_file]\n",
            "--to=<Unicode>\n",
            "    The export format to be used, either one of the built-in formats\n",
            "            ['asciidoc', 'custom', 'html', 'latex', 'markdown', 'notebook', 'pdf', 'python', 'rst', 'script', 'slides', 'webpdf']\n",
            "            or a dotted object name that represents the import path for an\n",
            "            ``Exporter`` class\n",
            "    Default: ''\n",
            "    Equivalent to: [--NbConvertApp.export_format]\n",
            "--template=<Unicode>\n",
            "    Name of the template to use\n",
            "    Default: ''\n",
            "    Equivalent to: [--TemplateExporter.template_name]\n",
            "--template-file=<Unicode>\n",
            "    Name of the template file to use\n",
            "    Default: None\n",
            "    Equivalent to: [--TemplateExporter.template_file]\n",
            "--theme=<Unicode>\n",
            "    Template specific theme(e.g. the name of a JupyterLab CSS theme distributed\n",
            "    as prebuilt extension for the lab template)\n",
            "    Default: 'light'\n",
            "    Equivalent to: [--HTMLExporter.theme]\n",
            "--sanitize_html=<Bool>\n",
            "    Whether the HTML in Markdown cells and cell outputs should be sanitized.This\n",
            "    should be set to True by nbviewer or similar tools.\n",
            "    Default: False\n",
            "    Equivalent to: [--HTMLExporter.sanitize_html]\n",
            "--writer=<DottedObjectName>\n",
            "    Writer class used to write the\n",
            "                                        results of the conversion\n",
            "    Default: 'FilesWriter'\n",
            "    Equivalent to: [--NbConvertApp.writer_class]\n",
            "--post=<DottedOrNone>\n",
            "    PostProcessor class used to write the\n",
            "                                        results of the conversion\n",
            "    Default: ''\n",
            "    Equivalent to: [--NbConvertApp.postprocessor_class]\n",
            "--output=<Unicode>\n",
            "    overwrite base name use for output files.\n",
            "                can only be used when converting one notebook at a time.\n",
            "    Default: ''\n",
            "    Equivalent to: [--NbConvertApp.output_base]\n",
            "--output-dir=<Unicode>\n",
            "    Directory to write output(s) to. Defaults\n",
            "                                  to output to the directory of each notebook. To recover\n",
            "                                  previous default behaviour (outputting to the current\n",
            "                                  working directory) use . as the flag value.\n",
            "    Default: ''\n",
            "    Equivalent to: [--FilesWriter.build_directory]\n",
            "--reveal-prefix=<Unicode>\n",
            "    The URL prefix for reveal.js (version 3.x).\n",
            "            This defaults to the reveal CDN, but can be any url pointing to a copy\n",
            "            of reveal.js.\n",
            "            For speaker notes to work, this must be a relative path to a local\n",
            "            copy of reveal.js: e.g., \"reveal.js\".\n",
            "            If a relative path is given, it must be a subdirectory of the\n",
            "            current directory (from which the server is run).\n",
            "            See the usage documentation\n",
            "            (https://nbconvert.readthedocs.io/en/latest/usage.html#reveal-js-html-slideshow)\n",
            "            for more details.\n",
            "    Default: ''\n",
            "    Equivalent to: [--SlidesExporter.reveal_url_prefix]\n",
            "--nbformat=<Enum>\n",
            "    The nbformat version to write.\n",
            "            Use this to downgrade notebooks.\n",
            "    Choices: any of [1, 2, 3, 4]\n",
            "    Default: 4\n",
            "    Equivalent to: [--NotebookExporter.nbformat_version]\n",
            "\n",
            "Examples\n",
            "--------\n",
            "\n",
            "    The simplest way to use nbconvert is\n",
            "\n",
            "            > jupyter nbconvert mynotebook.ipynb --to html\n",
            "\n",
            "            Options include ['asciidoc', 'custom', 'html', 'latex', 'markdown', 'notebook', 'pdf', 'python', 'rst', 'script', 'slides', 'webpdf'].\n",
            "\n",
            "            > jupyter nbconvert --to latex mynotebook.ipynb\n",
            "\n",
            "            Both HTML and LaTeX support multiple output templates. LaTeX includes\n",
            "            'base', 'article' and 'report'.  HTML includes 'basic', 'lab' and\n",
            "            'classic'. You can specify the flavor of the format used.\n",
            "\n",
            "            > jupyter nbconvert --to html --template lab mynotebook.ipynb\n",
            "\n",
            "            You can also pipe the output to stdout, rather than a file\n",
            "\n",
            "            > jupyter nbconvert mynotebook.ipynb --stdout\n",
            "\n",
            "            PDF is generated via latex\n",
            "\n",
            "            > jupyter nbconvert mynotebook.ipynb --to pdf\n",
            "\n",
            "            You can get (and serve) a Reveal.js-powered slideshow\n",
            "\n",
            "            > jupyter nbconvert myslides.ipynb --to slides --post serve\n",
            "\n",
            "            Multiple notebooks can be given at the command line in a couple of\n",
            "            different ways:\n",
            "\n",
            "            > jupyter nbconvert notebook*.ipynb\n",
            "            > jupyter nbconvert notebook1.ipynb notebook2.ipynb\n",
            "\n",
            "            or you can specify the notebooks list in a config file, containing::\n",
            "\n",
            "                c.NbConvertApp.notebooks = [\"my_notebook.ipynb\"]\n",
            "\n",
            "            > jupyter nbconvert --config mycfg.py\n",
            "\n",
            "To see all available configurables, use `--help-all`.\n",
            "\n"
          ]
        }
      ],
      "source": [
        "!jupyter nbconvert --to pdf \"/content/drive/MyDrive/NLPGroupProject/RNN_baseline_final.ipynb\""
      ]
    }
  ],
  "metadata": {
    "colab": {
      "provenance": []
    },
    "kernelspec": {
      "display_name": "Python 3",
      "name": "python3"
    },
    "language_info": {
      "name": "python"
    }
  },
  "nbformat": 4,
  "nbformat_minor": 0
}
